{
 "cells": [
  {
   "cell_type": "code",
   "execution_count": 1,
   "id": "75e813cb",
   "metadata": {},
   "outputs": [],
   "source": [
    "import numpy as np\n",
    "import pandas as pd\n",
    "from scipy import stats\n",
    "import sklearn\n",
    "import sklearn.linear_model\n",
    "import sklearn.metrics\n",
    "import matplotlib.pyplot as plt"
   ]
  },
  {
   "cell_type": "code",
   "execution_count": 72,
   "id": "fb56b755",
   "metadata": {},
   "outputs": [
    {
     "data": {
      "text/plain": [
       "array([[1, 0, 3, ..., 7.25, nan, 'S'],\n",
       "       [2, 1, 1, ..., 71.2833, 'C85', 'C'],\n",
       "       [3, 1, 3, ..., 7.925, nan, 'S'],\n",
       "       ...,\n",
       "       [889, 0, 3, ..., 23.45, nan, 'S'],\n",
       "       [890, 1, 1, ..., 30.0, 'C148', 'C'],\n",
       "       [891, 0, 3, ..., 7.75, nan, 'Q']], dtype=object)"
      ]
     },
     "execution_count": 72,
     "metadata": {},
     "output_type": "execute_result"
    }
   ],
   "source": [
    "DATA = \"train.csv\"\n",
    "data = pd.read_csv(DATA)\n",
    "data = data.to_numpy()\n",
    "data"
   ]
  },
  {
   "cell_type": "code",
   "execution_count": 73,
   "id": "2171ea1c",
   "metadata": {},
   "outputs": [
    {
     "data": {
      "text/plain": [
       "array([[892, 3, 'Kelly, Mr. James', ..., 7.8292, nan, 'Q'],\n",
       "       [893, 3, 'Wilkes, Mrs. James (Ellen Needs)', ..., 7.0, nan, 'S'],\n",
       "       [894, 2, 'Myles, Mr. Thomas Francis', ..., 9.6875, nan, 'Q'],\n",
       "       ...,\n",
       "       [1307, 3, 'Saether, Mr. Simon Sivertsen', ..., 7.25, nan, 'S'],\n",
       "       [1308, 3, 'Ware, Mr. Frederick', ..., 8.05, nan, 'S'],\n",
       "       [1309, 3, 'Peter, Master. Michael J', ..., 22.3583, nan, 'C']],\n",
       "      dtype=object)"
      ]
     },
     "execution_count": 73,
     "metadata": {},
     "output_type": "execute_result"
    }
   ],
   "source": [
    "TEST_DATA = \"test.csv\"\n",
    "test_data = pd.read_csv(TEST_DATA)\n",
    "test_data = test_data.to_numpy()\n",
    "test_data"
   ]
  },
  {
   "cell_type": "code",
   "execution_count": 28,
   "id": "056e3cb4",
   "metadata": {},
   "outputs": [
    {
     "data": {
      "text/plain": [
       "array([[214, 0, 2, ..., 13.0, nan, 'S'],\n",
       "       [767, 0, 1, ..., 39.6, nan, 'C'],\n",
       "       [590, 0, 3, ..., 8.05, nan, 'S'],\n",
       "       ...,\n",
       "       [440, 0, 2, ..., 10.5, nan, 'S'],\n",
       "       [773, 0, 2, ..., 10.5, 'E77', 'S'],\n",
       "       [557, 1, 1, ..., 39.6, 'A16', 'C']], dtype=object)"
      ]
     },
     "execution_count": 28,
     "metadata": {},
     "output_type": "execute_result"
    }
   ],
   "source": [
    "np.random.seed(101)\n",
    "np.random.shuffle(data)\n",
    "data"
   ]
  },
  {
   "cell_type": "code",
   "execution_count": 76,
   "id": "942490b5",
   "metadata": {},
   "outputs": [
    {
     "name": "stdout",
     "output_type": "stream",
     "text": [
      "(891,)\n",
      "(891, 1)\n",
      "(418,)\n"
     ]
    }
   ],
   "source": [
    "X, y = data[:,0], data[:,1]\n",
    "print(X.shape)\n",
    "\n",
    "X = X.reshape((-1,1))\n",
    "print(X.shape)\n",
    "\n",
    "X_test, y_test = test_data[:,0], data[:,1]\n",
    "print(X_test.shape)\n",
    "\n",
    "def data_split(data):\n",
    "    return np.split(data, [int(data.shape[0])])\n",
    "\n",
    "X_train, X_val = data_split(X)\n",
    "y_train, y_val = data_split(y)\n",
    "X_test = data_split(X_test)\n",
    "y_test = data_split(y_test)\n"
   ]
  },
  {
   "cell_type": "code",
   "execution_count": 54,
   "id": "21474c5b",
   "metadata": {},
   "outputs": [
    {
     "name": "stdout",
     "output_type": "stream",
     "text": [
      "[-9.46635703e-06]\n",
      "0.388060379071615\n"
     ]
    }
   ],
   "source": [
    "model = sklearn.linear_model.LinearRegression()\n",
    "model.fit(X_train.reshape(-1, 1), y_train)\n",
    "\n",
    "weight = model.coef_\n",
    "bias = model.intercept_\n",
    "\n",
    "print(weight)\n",
    "print(bias)"
   ]
  },
  {
   "cell_type": "markdown",
   "id": "4102a305",
   "metadata": {},
   "source": [
    "$$b_1=-0.00000947$$\n",
    "$$b_0=0.39$$\n",
    "$$\\hat Y = b_1X + b_0$$\n",
    "$$\\hat Y = -0.00000947X + 0.39$$"
   ]
  },
  
